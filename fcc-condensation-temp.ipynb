{
 "cells": [
  {
   "cell_type": "code",
   "execution_count": 1,
   "id": "f8706f0f-0a06-48da-bd1c-e6b984be9cc4",
   "metadata": {},
   "outputs": [
    {
     "name": "stdout",
     "output_type": "stream",
     "text": [
      "sys.version_info(major=3, minor=12, micro=3, releaselevel='final', serial=0)\n"
     ]
    },
    {
     "name": "stderr",
     "output_type": "stream",
     "text": [
      "/Users/jamesjohnson/Work/Research/lib/public-dev/VICE/vice/__init__.py:141: UserWarning: Using un-released version of VICE\n",
      "  warnings.warn(\"Using un-released version of VICE\", UserWarning)\n"
     ]
    }
   ],
   "source": [
    "import matplotlib.pyplot as plt\n",
    "from plots.mpltoolkit import named_colors, fancy_legend, mpl_loc, load_style_sheet, markers\n",
    "from astropy.io import fits\n",
    "import numpy as np\n",
    "import vice\n",
    "import sys\n",
    "load_style_sheet(\"papers\")\n",
    "print(sys.version_info)"
   ]
  },
  {
   "cell_type": "code",
   "execution_count": 2,
   "id": "63afceff-acdd-4fd3-a794-df45b3447f18",
   "metadata": {},
   "outputs": [
    {
     "name": "stdout",
     "output_type": "stream",
     "text": [
      "{'c': 78.0, 'n': 123.0, 'o': 180.0, 'zn': 726.0, 'na': 958.0, 'cu': 1037.0, 'mn': 1158.0, 'cr': 1296.0, 'fe': 1334.0, 'co': 1352.0, 'ni': 1353.0, 'eu': 1356.0, 'mg': 1397.0, 'v': 1429.0, 'ba': 1455.0, 'sr': 1464.0, 'ce': 1478.0, 'ca': 1517.0, 'si': 1529.0, 'la': 1578.0, 'ti': 1582.0, 'sm': 1590.0, 'nd': 1602.0, 'al': 1653.0, 'sc': 1659.0, 'y': 1659.0, 'zr': 1741.0, 's': 704.0, 'k': 1006.0}\n"
     ]
    }
   ],
   "source": [
    "TCOND = dict()\n",
    "with open(\"tcond.dat\", 'r') as f:\n",
    "    while True:\n",
    "        line = f.readline()\n",
    "        if line == \"\": break\n",
    "        if line[0] == \"#\": continue\n",
    "        line = line.split()\n",
    "        TCOND[line[0].lower()] = float(line[1])\n",
    "    f.close()\n",
    "print(TCOND)"
   ]
  },
  {
   "cell_type": "code",
   "execution_count": 3,
   "id": "e3e3d0a7-1bb3-4834-9955-f98c966ca3c5",
   "metadata": {},
   "outputs": [
    {
     "name": "stdout",
     "output_type": "stream",
     "text": [
      "vice.dataframe{\n",
      "    mg_h -----------> [-0.130251, -0.199826, -0.195454, ... , -0.179331, -0.0219374, -0.207697]\n",
      "    mg -------------> [0.999874, 0.999888, 0.999892, ... , 0.999896, 0.999887, 0.999967]\n",
      "    o --------------> [0.907159, 0.920611, 0.923688, ... , 0.925148, 0.898798, 0.975455]\n",
      "    si -------------> [0.79511, 0.821305, 0.827327, ... , 0.829865, 0.793629, 0.940461]\n",
      "    s --------------> [0.944777, 0.9624, 0.963418, ... , 0.962257, 0.917052, 0.989012]\n",
      "    ca -------------> [0.664488, 0.690257, 0.69947, ... , 0.704972, 0.69953, 0.88421]\n",
      "    na -------------> [0.491384, 0.505936, 0.518679, ... , 0.531107, 0.490273, 0.775651]\n",
      "    al -------------> [0.897492, 0.876189, 0.883105, ... , 0.893607, 0.939099, 0.958859]\n",
      "    k --------------> [0.907882, 0.914389, 0.91814, ... , 0.921303, 0.909403, 0.973122]\n",
      "    cr -------------> [0.395127, 0.426304, 0.437049, ... , 0.443527, 0.419376, 0.717811]\n",
      "    fe -------------> [0.3943, 0.422587, 0.433465, ... , 0.440555, 0.420946, 0.714499]\n",
      "    ni -------------> [0.521352, 0.553532, 0.564633, ... , 0.571859, 0.520657, 0.808906]\n",
      "    mn -------------> [0.238035, 0.269277, 0.277905, ... , 0.282508, 0.218443, 0.557842]\n",
      "    co -------------> [0.609846, 0.627645, 0.639029, ... , 0.649009, 0.617832, 0.851034]\n",
      "    ce -------------> [0.142682, 0.14549, 0.151327, ... , 0.156558, 0.217828, 0.367574]\n",
      "}\n"
     ]
    }
   ],
   "source": [
    "ELEMENTS = [\"mg\", \"o\", \"si\", \"s\", \"ca\", \"na\", \"al\", \"k\", \"cr\", \"fe\", \"ni\", \"mn\", \"co\", \"ce\"]\n",
    "with fits.open(\"fcc_KPM_APOGEE.fits\") as hdul:\n",
    "    fccs = {}\n",
    "    fccs[\"mg_h\"] = hdul[1].data[\"Mg_H_obs\"]\n",
    "    for elem in ELEMENTS:\n",
    "        fccs[elem] = hdul[1].data[\"%s_H_fcc\" % (elem.capitalize())]\n",
    "    fccs = vice.dataframe(fccs)\n",
    "    hdul.close()\n",
    "print(fccs)"
   ]
  },
  {
   "cell_type": "code",
   "execution_count": 8,
   "id": "ed7120a7-6d62-4a31-9428-799446437a2b",
   "metadata": {},
   "outputs": [
    {
     "name": "stdout",
     "output_type": "stream",
     "text": [
      "{'al': [0.00661683, 0.00143026], 'ca': [0.00733523, 0.00119382], 'ce': [0.0373285, 0.00480282], 'co': [-0.00371744, 0.00186325], 'cr': [-0.00332578, 0.000347212], 'o': [0.00532647, 0.00116264], 'k': [0.00095832, 0.00222597], 's': [0.010418, 0.000851516], 'na': [-0.00975899, 0.00200744], 'mg': [0.00612295, 0.000473525], 'mn': [-0.0168976, 0.00342333], 'fe': [0.0, 0.0], 'si': [0.00502461, 0.000387083], 'ni': [-0.0036735, 0.000908106]}\n"
     ]
    }
   ],
   "source": [
    "GRADIENTS = dict()\n",
    "# with open(\"./grad_xh.out\", \"r\") as f:\n",
    "with open(\"./grad_xfe.out\", \"r\") as f:\n",
    "    while True:\n",
    "        line = f.readline()\n",
    "        if line == \"\": break\n",
    "        if line[0] == \"#\": continue\n",
    "        line = line.split()\n",
    "        GRADIENTS[line[0].lower()] = [float(line[1]), float(line[2])]\n",
    "    f.close()\n",
    "print(GRADIENTS)"
   ]
  },
  {
   "cell_type": "code",
   "execution_count": 5,
   "id": "3ac18a6f-6bf3-49a6-9ca2-30af8ce92e16",
   "metadata": {},
   "outputs": [
    {
     "data": {
      "image/png": "[encoded data removed]",
      "text/plain": [
       "<Figure size 300x300 with 1 Axes>"
      ]
     },
     "metadata": {},
     "output_type": "display_data"
    }
   ],
   "source": [
    "fig = plt.figure(figsize = (3, 3))\n",
    "ax = fig.add_subplot(111)\n",
    "ax.set_xlabel(r\"$T_\\text{cond}$ [K]\")\n",
    "ax.set_ylabel(r\"$f_\\text{CC}$\")\n",
    "ax.set_ylim([0, 1.1])\n",
    "ax.set_xlim([900, 1800])\n",
    "ax.set_xticks([1000, 1200, 1400, 1600, 1800])\n",
    "\n",
    "elements_subset = [\"fe\", \"mg\", \"na\", \"mn\", \"cr\", \"ni\", \"al\"]\n",
    "annotation_offsets = dict(zip(ELEMENTS, len(ELEMENTS) * [(30, -0.03)]))\n",
    "annotation_offsets[\"cr\"] = (-100, -0.03)\n",
    "annotation_offsets[\"o\"] = (20, -0.04)\n",
    "annotation_offsets[\"s\"] = (20, 0.00)\n",
    "marker_styles = dict(zip(ELEMENTS, len(ELEMENTS) * [\"circle\"]))\n",
    "marker_styles[\"mg\"] = \"x\"\n",
    "marker_styles[\"na\"] = \"x\"\n",
    "marker_styles[\"o\"] = \"triangle_left\"\n",
    "marker_styles[\"s\"] = \"triangle_left\"\n",
    "\n",
    "sub = fccs.filter(\"mg_h\", \">=\", -0.1).filter(\"mg_h\", \"<=\", 0.1)\n",
    "for elem in ELEMENTS:\n",
    "    med_fcc = np.median(fccs[\"%s\" % (elem)])\n",
    "    if elem in [\"o\", \"s\"]:\n",
    "        xval = 1200\n",
    "        kwargs = {\n",
    "            \"color\": named_colors()[\"black\"],\n",
    "            \"overhang\": 0.5,\n",
    "            \"length_includes_head\": True,\n",
    "            \"head_width\": 0.04,\n",
    "            \"head_length\": 50\n",
    "        }\n",
    "        ax.arrow(xval, med_fcc, -100, 0, **kwargs)\n",
    "    else:\n",
    "        xval = TCOND[elem]\n",
    "        kwargs = {\n",
    "            \"c\": named_colors()[\"black\"],\n",
    "            \"marker\": markers()[marker_styles[elem]]\n",
    "        }\n",
    "        ax.scatter(xval, med_fcc, **kwargs)\n",
    "    kwargs = {\"fontsize\": 12}\n",
    "    if elem in elements_subset: kwargs[\"color\"] = \"crimson\"\n",
    "    ax.annotate(elem.capitalize(),\n",
    "        (xval + annotation_offsets[elem][0], med_fcc + annotation_offsets[elem][1]),\n",
    "        **kwargs)\n",
    "\n",
    "plt.tight_layout()\n",
    "plt.savefig(\"./fcc-tcond.pdf\")\n",
    "plt.show()"
   ]
  },
  {
   "cell_type": "code",
   "execution_count": 10,
   "id": "6feb2dc1-deb9-4c32-acd0-31642dd7f78c",
   "metadata": {},
   "outputs": [
    {
     "data": {
      "image/png": "[encoded data removed]",
      "text/plain": [
       "<Figure size 300x300 with 1 Axes>"
      ]
     },
     "metadata": {},
     "output_type": "display_data"
    }
   ],
   "source": [
    "fig = plt.figure(figsize = (3, 3))\n",
    "ax = fig.add_subplot(111)\n",
    "ax.set_xlabel(r\"$f_\\text{CC}$\")\n",
    "# ax.set_ylabel(r\"$\\nabla$[X/H] [kpc$^{-1}$]\")\n",
    "# ax.set_ylabel(r\"$\\nabla$[X/H] $- \\nabla$[Fe/H] [kpc$^{-1}$]\")\n",
    "ax.set_ylabel(r\"$\\nabla$[X/Fe] [kpc$^{-1}$]\")\n",
    "ax.set_xlim([0, 1.2])\n",
    "# ax.set_ylim([-0.11, -0.02])\n",
    "ax.set_ylim([-0.03, 0.045])\n",
    "\n",
    "elements_subset = [\"fe\", \"mg\", \"na\", \"mn\", \"cr\", \"ni\", \"al\"]\n",
    "annotation_offsets = dict(zip(ELEMENTS, len(ELEMENTS) * [(0, 0)]))\n",
    "# annotation_offsets[\"mn\"] = (0.02, -0.005)\n",
    "# annotation_offsets[\"na\"] = (0.02, -0.005)\n",
    "# annotation_offsets[\"co\"] = (0.02, -0.005)\n",
    "# annotation_offsets[\"fe\"] = (-0.12, 0)\n",
    "# annotation_offsets[\"cr\"] = (-0.15, -0.005)\n",
    "# annotation_offsets[\"ni\"] = (-0.05, 0.002)\n",
    "# annotation_offsets[\"ca\"] = (-0.15, 0)\n",
    "# annotation_offsets[\"si\"] = (0.02, -0.008)\n",
    "# annotation_offsets[\"o\"] = (0.02, -0.007)\n",
    "# annotation_offsets[\"mg\"] = (0.02, -0.007)\n",
    "# annotation_offsets[\"k\"] = (-0.1, 0)\n",
    "# annotation_offsets[\"al\"] = (-0.06, 0.002)\n",
    "# annotation_offsets[\"s\"] = (0.02, 0.002)\n",
    "# annotation_offsets[\"ce\"] = (0.02, -0.005)\n",
    "marker_styles = dict(zip(ELEMENTS, len(ELEMENTS) * [\"circle\"]))\n",
    "marker_styles[\"mg\"] = \"x\"\n",
    "marker_styles[\"na\"] = \"x\"\n",
    "\n",
    "sub = fccs.filter(\"mg_h\", \">=\", -0.1).filter(\"mg_h\", \"<=\", 0.1)\n",
    "for elem in ELEMENTS:\n",
    "    med_fcc = np.median(fccs[\"%s\" % (elem)])\n",
    "    # yval = GRADIENTS[elem][0]\n",
    "    yval = GRADIENTS[elem][0] - GRADIENTS[\"fe\"][0]\n",
    "    kwargs = {\n",
    "        \"c\": named_colors()[\"black\"],\n",
    "        \"marker\": markers()[marker_styles[elem]]\n",
    "    }\n",
    "    ax.scatter(med_fcc, yval, **kwargs)\n",
    "    kwargs = {\"fontsize\": 12}\n",
    "    if elem in elements_subset: kwargs[\"color\"] = \"crimson\"\n",
    "    ax.annotate(elem.capitalize(),\n",
    "        (med_fcc + annotation_offsets[elem][0], yval + annotation_offsets[elem][1]),\n",
    "        **kwargs)\n",
    "    \n",
    "plt.tight_layout()\n",
    "plt.savefig(\"gradxfe-fcc.pdf\")\n",
    "plt.show()"
   ]
  },
  {
   "cell_type": "code",
   "execution_count": 21,
   "id": "139f1f16-7487-4b5d-97fe-f7c35c2052fe",
   "metadata": {},
   "outputs": [
    {
     "data": {
      "image/png": "[encoded data removed]",
      "text/plain": [
       "<Figure size 300x300 with 1 Axes>"
      ]
     },
     "metadata": {},
     "output_type": "display_data"
    }
   ],
   "source": [
    "fig = plt.figure(figsize = (3, 3))\n",
    "ax = fig.add_subplot(111)\n",
    "ax.set_xlabel(r\"$\\nabla$[X/Fe] [kpc$^{-1}$]\")\n",
    "ax.set_ylabel(r\"$\\nabla$[X/H] $- \\nabla$[Fe/H] [kpc$^{-1}$]\")\n",
    "ax.set_xlim([-0.03, 0.045])\n",
    "ax.set_ylim([-0.03, 0.045])\n",
    "ax.plot(ax.get_xlim(), ax.get_xlim(), c = named_colors()[\"black\"], linestyle = \":\")\n",
    "\n",
    "elements_subset = [\"fe\", \"mg\", \"na\", \"mn\", \"cr\", \"ni\", \"al\"]\n",
    "annotation_offsets = dict(zip(ELEMENTS, len(ELEMENTS) * [(0, 0)]))\n",
    "# annotation_offsets[\"mn\"] = (0.02, -0.005)\n",
    "# annotation_offsets[\"na\"] = (0.02, -0.005)\n",
    "# annotation_offsets[\"co\"] = (0.02, -0.005)\n",
    "# annotation_offsets[\"fe\"] = (-0.12, 0)\n",
    "# annotation_offsets[\"cr\"] = (-0.15, -0.005)\n",
    "# annotation_offsets[\"ni\"] = (-0.05, 0.002)\n",
    "# annotation_offsets[\"ca\"] = (-0.15, 0)\n",
    "# annotation_offsets[\"si\"] = (0.02, -0.008)\n",
    "# annotation_offsets[\"o\"] = (0.02, -0.007)\n",
    "# annotation_offsets[\"mg\"] = (0.02, -0.007)\n",
    "# annotation_offsets[\"k\"] = (-0.1, 0)\n",
    "# annotation_offsets[\"al\"] = (-0.06, 0.002)\n",
    "# annotation_offsets[\"s\"] = (0.02, 0.002)\n",
    "# annotation_offsets[\"ce\"] = (0.02, -0.005)\n",
    "marker_styles = dict(zip(ELEMENTS, len(ELEMENTS) * [\"circle\"]))\n",
    "marker_styles[\"mg\"] = \"x\"\n",
    "marker_styles[\"na\"] = \"x\"\n",
    "\n",
    "grad_xfe = dict()\n",
    "with open(\"grad_xfe_median.out\", \"r\") as f:\n",
    "    while True:\n",
    "        line = f.readline()\n",
    "        if line == \"\": break\n",
    "        if line[0] == \"#\": continue\n",
    "        line = line.split()\n",
    "        grad_xfe[line[0].lower()] = float(line[1])\n",
    "    f.close()\n",
    "\n",
    "gradxh_minus_feh = dict()\n",
    "with open(\"grad_xh_median.out\", \"r\") as f:\n",
    "    while True:\n",
    "        line = f.readline()\n",
    "        if line == \"\": break\n",
    "        if line[0] == \"#\": continue\n",
    "        line = line.split()\n",
    "        gradxh_minus_feh[line[0].lower()] = float(line[1])\n",
    "    f.close()\n",
    "\n",
    "for elem in ELEMENTS:\n",
    "    gradxh_minus_feh[elem] -= gradxh_minus_feh[\"fe\"]\n",
    "    kwargs = {\n",
    "        \"c\": named_colors()[\"black\"],\n",
    "        \"marker\": markers()[marker_styles[elem]]\n",
    "    }\n",
    "    ax.scatter(grad_xfe[elem], gradxh_minus_feh[elem], **kwargs)\n",
    "    # kwargs = {\"fontsize\": 12}\n",
    "    # if elem in elements_subset: kwargs[\"color\"] = \"crimson\"\n",
    "    # ax.annotate(elem.capitalize(),\n",
    "    #     (med_fcc + annotation_offsets[elem][0], yval + annotation_offsets[elem][1]),\n",
    "    #     **kwargs)\n",
    "\n",
    "plt.tight_layout()\n",
    "plt.savefig(\"./gradxhminusfeh-gradxh-median.pdf\")\n",
    "plt.show()"
   ]
  },
  {
   "cell_type": "code",
   "execution_count": 7,
   "id": "e2cbec0a-c34a-419d-8ec0-40fcb53c07ea",
   "metadata": {},
   "outputs": [
    {
     "data": {
      "image/png": "[encoded data removed]",
      "text/plain": [
       "<Figure size 300x300 with 1 Axes>"
      ]
     },
     "metadata": {},
     "output_type": "display_data"
    }
   ],
   "source": [
    "fig = plt.figure(figsize = (3, 3))\n",
    "ax = fig.add_subplot(111)\n",
    "ax.set_xlabel(r\"$T_\\text{cond}$ [K]\")\n",
    "ax.set_ylabel(r\"$\\nabla$[X/H] [kpc$^{-1}$]\")\n",
    "# ax.set_ylim([0, 1.1])\n",
    "ax.set_xlim([900, 1800])\n",
    "ax.set_xticks([1000, 1200, 1400, 1600, 1800])\n",
    "\n",
    "elements_subset = [\"fe\", \"mg\", \"na\", \"mn\", \"cr\", \"ni\", \"al\"]\n",
    "annotation_offsets = dict(zip(ELEMENTS, len(ELEMENTS) * [(0, 0)]))\n",
    "# annotation_offsets[\"cr\"] = (-100, -0.03)\n",
    "# annotation_offsets[\"o\"] = (20, -0.04)\n",
    "# annotation_offsets[\"s\"] = (20, 0.00)\n",
    "marker_styles = dict(zip(ELEMENTS, len(ELEMENTS) * [\"circle\"]))\n",
    "marker_styles[\"mg\"] = \"x\"\n",
    "marker_styles[\"na\"] = \"x\"\n",
    "marker_styles[\"o\"] = \"triangle_left\"\n",
    "marker_styles[\"s\"] = \"triangle_left\"\n",
    "\n",
    "# sub = fccs.filter(\"mg_h\", \">=\", -0.1).filter(\"mg_h\", \"<=\", 0.1)\n",
    "for elem in ELEMENTS:\n",
    "    # med_fcc = np.median(fccs[\"%s\" % (elem)])\n",
    "    yval = GRADIENTS[elem][0]\n",
    "    # if elem in [\"o\", \"s\"]:\n",
    "    #     xval = 1200\n",
    "    #     kwargs = {\n",
    "    #         \"color\": named_colors()[\"black\"],\n",
    "    #         \"overhang\": 0.5,\n",
    "    #         \"length_includes_head\": True,\n",
    "    #         \"head_width\": 0.04,\n",
    "    #         \"head_length\": 50\n",
    "    #     }\n",
    "    #     ax.arrow(xval, yval, -100, 0, **kwargs)\n",
    "    # else:\n",
    "    xval = TCOND[elem]\n",
    "    kwargs = {\n",
    "        \"c\": named_colors()[\"black\"],\n",
    "        \"marker\": markers()[marker_styles[elem]]\n",
    "    }\n",
    "    # ax.scatter(xval, med_fcc, **kwargs)\n",
    "    ax.scatter(xval, yval, **kwargs)\n",
    "    kwargs = {\"fontsize\": 12}\n",
    "    if elem in elements_subset: kwargs[\"color\"] = \"crimson\"\n",
    "    ax.annotate(elem.capitalize(),\n",
    "        (xval + annotation_offsets[elem][0], yval + annotation_offsets[elem][1]),\n",
    "        **kwargs)\n",
    "\n",
    "plt.tight_layout()\n",
    "plt.savefig(\"./gradxh-tcond.pdf\")\n",
    "plt.show()"
   ]
  },
  {
   "cell_type": "code",
   "execution_count": null,
   "id": "f1984e5e-3ec7-4396-ab76-f2189e47197c",
   "metadata": {},
   "outputs": [],
   "source": []
  }
 ],
 "metadata": {
  "kernelspec": {
   "display_name": "Python 3 (ipykernel)",
   "language": "python",
   "name": "python3"
  },
  "language_info": {
   "codemirror_mode": {
    "name": "ipython",
    "version": 3
   },
   "file_extension": ".py",
   "mimetype": "text/x-python",
   "name": "python",
   "nbconvert_exporter": "python",
   "pygments_lexer": "ipython3",
   "version": "3.12.3"
  }
 },
 "nbformat": 4,
 "nbformat_minor": 5
}
